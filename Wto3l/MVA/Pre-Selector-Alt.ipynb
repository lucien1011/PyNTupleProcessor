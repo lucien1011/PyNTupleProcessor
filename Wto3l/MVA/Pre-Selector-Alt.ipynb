{
 "cells": [
  {
   "cell_type": "code",
   "execution_count": 1,
   "metadata": {
    "collapsed": true
   },
   "outputs": [],
   "source": [
    "import sys\n",
    "sys.path = ['', '/home/nikmenendez/.local/lib/python2.7/site-packages', '/cvmfs/cms.cern.ch/share/overrides/python', '/cvmfs/cms.cern.ch/slc6_amd64_gcc630/cms/cmssw/CMSSW_9_4_4/python', '/cvmfs/cms.cern.ch/slc6_amd64_gcc630/cms/cmssw/CMSSW_9_4_4/lib/slc6_amd64_gcc630', '/cvmfs/cms.cern.ch/slc6_amd64_gcc630/cms/coral/CORAL_2_3_21-fmblme4/slc6_amd64_gcc630/python', '/cvmfs/cms.cern.ch/slc6_amd64_gcc630/cms/coral/CORAL_2_3_21-fmblme4/slc6_amd64_gcc630/lib', '/cvmfs/cms.cern.ch/slc6_amd64_gcc630/external/professor2/2.2.1-fmblme5/lib/python2.7/site-packages', '/cvmfs/cms.cern.ch/slc6_amd64_gcc630/external/pyqt/4.11.4-fmblme/lib/python2.7/site-packages', '/cvmfs/cms.cern.ch/slc6_amd64_gcc630/external/sherpa/2.2.4-fmblme2/lib/python2.7/site-packages', '/cvmfs/cms.cern.ch/slc6_amd64_gcc630/external/rivet/2.5.4/lib/python2.7/site-packages', '/cvmfs/cms.cern.ch/slc6_amd64_gcc630/external/python-ldap/2.4.10-fmblme/lib/python2.7/site-packages', '/cvmfs/cms.cern.ch/slc6_amd64_gcc630/external/py2-matplotlib/1.5.2-fmblme/lib/python2.7/site-packages', '/cvmfs/cms.cern.ch/slc6_amd64_gcc630/external/sip/4.17-fmblme/lib/python2.7/site-packages', '/cvmfs/cms.cern.ch/slc6_amd64_gcc630/external/llvm/4.0.1/lib64/python2.7/site-packages', '/cvmfs/cms.cern.ch/slc6_amd64_gcc630/external/py2-sqlalchemy/1.1.4-fmblme/lib/python2.7/site-packages', '/cvmfs/cms.cern.ch/slc6_amd64_gcc630/external/py2-lint/0.25.1-fmblme/lib/python2.7/site-packages', '/cvmfs/cms.cern.ch/slc6_amd64_gcc630/external/py2-dxr/1.0-fmblme3/lib/python2.7/site-packages', '/cvmfs/cms.cern.ch/slc6_amd64_gcc630/external/py2-cx-oracle/5.2.1-fmblme/lib/python2.7/site-packages', '/cvmfs/cms.cern.ch/slc6_amd64_gcc630/external/py2-numpy/1.12.1-fmblme/lib/python2.7/site-packages', '/cvmfs/cms.cern.ch/slc6_amd64_gcc630/external/frontier_client/2.8.20-fmblme/python/lib', '/cvmfs/cms.cern.ch/slc6_amd64_gcc630/cms/das_client/v03.01.00-fmblme/bin', '/cvmfs/cms.cern.ch/slc6_amd64_gcc630/external/xrootd/4.6.1-fmblme/lib/python2.7/site-packages', '/cvmfs/cms.cern.ch/slc6_amd64_gcc630/external/yoda/1.6.7/lib/python2.7/site-packages', '/cvmfs/cms.cern.ch/slc6_amd64_gcc630/lcg/root/6.10.08/lib', '/cvmfs/cms.cern.ch/slc6_amd64_gcc630/external/pyminuit2/0.0.1-fmblme3/lib/python2.7/site-packages', '/cvmfs/cms.cern.ch/slc6_amd64_gcc630/external/py2-PyYAML/3.11-fmblme/lib/python2.7/site-packages', '/cvmfs/cms.cern.ch/slc6_amd64_gcc630/external/py2-pygithub/1.23.0-fmblme/lib/python2.7/site-packages', '/cvmfs/cms.cern.ch/slc6_amd64_gcc630/external/py2-pip/9.0.1-fmblme/lib/python2.7/site-packages', '/cvmfs/cms.cern.ch/slc6_amd64_gcc630/external/py2-dablooms/0.9.1-fmblme/lib/python2.7/site-packages', '/cvmfs/cms.cern.ch/slc6_amd64_gcc630/external/py2-pippkgs_depscipy/3.0-fmblme4/lib/python2.7/site-packages', '/cvmfs/cms.cern.ch/slc6_amd64_gcc630/external/py2-pippkgs/6.0-fmblme/lib/python2.7/site-packages', '/cvmfs/cms.cern.ch/slc6_amd64_gcc630/external/professor/1.4.0-fmblme3/lib/python2.7/site-packages', '/cvmfs/cms.cern.ch/slc6_amd64_gcc630/cms/dbs-client/DBS_2_1_9-fmblme/lib', '/cvmfs/cms.cern.ch/slc6_amd64_gcc630/cms/dbs-client/DBS_2_1_9-fmblme/lib/DBSAPI', '/cvmfs/cms.cern.ch/slc6_amd64_gcc630/external/cvs2git/5419-fmblme/lib', '/blue/avery/nikmenendez/Wto3l/Analyzer2/UF-PyNTupleRunner/Wto3l', '/blue/avery/nikmenendez/Wto3l/Analyzer2/UF-PyNTupleRunner', '/cvmfs/cms.cern.ch/slc6_amd64_gcc630/external/py2-sqlalchemy/1.1.4-fmblme/lib/python2.7/site-packages/SQLAlchemy-1.1.4-py2.7-linux-x86_64.egg', '/cvmfs/cms.cern.ch/slc6_amd64_gcc630/external/py2-numpy/1.12.1-fmblme/lib/python2.7/site-packages/numpy-1.12.1-py2.7-linux-x86_64.egg', '/cvmfs/cms.cern.ch/slc6_amd64_gcc630/external/python/2.7.11-fmblme/lib/python27.zip', '/cvmfs/cms.cern.ch/slc6_amd64_gcc630/external/python/2.7.11-fmblme/lib/python2.7', '/cvmfs/cms.cern.ch/slc6_amd64_gcc630/external/python/2.7.11-fmblme/lib/python2.7/plat-linux2', '/cvmfs/cms.cern.ch/slc6_amd64_gcc630/external/python/2.7.11-fmblme/lib/python2.7/lib-tk', '/cvmfs/cms.cern.ch/slc6_amd64_gcc630/external/python/2.7.11-fmblme/lib/python2.7/lib-old', '/cvmfs/cms.cern.ch/slc6_amd64_gcc630/external/python/2.7.11-fmblme/lib/python2.7/lib-dynload', '/home/nikmenendez/.local/lib/python2.7/site-packages', '/cvmfs/cms.cern.ch/slc6_amd64_gcc630/external/python/2.7.11-fmblme/lib/python2.7/site-packages']"
   ]
  },
  {
   "cell_type": "code",
   "execution_count": 2,
   "metadata": {
    "collapsed": false
   },
   "outputs": [
    {
     "name": "stdout",
     "output_type": "stream",
     "text": [
      "Welcome to JupyROOT 6.10/09\n"
     ]
    }
   ],
   "source": [
    "from ROOT import TFile, TTree\n",
    "from ROOT import gROOT, AddressOf, TLorentzVector\n",
    "import uproot\n",
    "from array import array\n",
    "from tqdm import tqdm\n",
    "import numpy as np\n",
    "from Utils.DeltaR import deltaR\n",
    "from __future__ import division"
   ]
  },
  {
   "cell_type": "code",
   "execution_count": 3,
   "metadata": {
    "collapsed": true
   },
   "outputs": [],
   "source": [
    "Lep1_pt = array('f', [0.])\n",
    "Lep1_eta = array('f', [0.])\n",
    "Lep1_phi = array('f', [0.])\n",
    "Lep1_iso = array('f', [0.])\n",
    "Lep1_id = array('i', [0])\n",
    "\n",
    "Lep2_pt = array('f', [0.])\n",
    "Lep2_eta = array('f', [0.])\n",
    "Lep2_phi = array('f', [0.])\n",
    "Lep2_iso = array('f', [0.])\n",
    "Lep2_id = array('i', [0])\n",
    "\n",
    "dR = array('f', [0.])\n",
    "\n",
    "met = array('f', [0.])\n",
    "met_phi = array('f', [0.])\n",
    "\n",
    "fromZp = array('i', [0])"
   ]
  },
  {
   "cell_type": "code",
   "execution_count": 4,
   "metadata": {
    "collapsed": false
   },
   "outputs": [
    {
     "data": {
      "text/plain": [
       "<ROOT.TBranch object (\"fromZp\") at 0x5165f70>"
      ]
     },
     "execution_count": 4,
     "metadata": {},
     "output_type": "execute_result"
    }
   ],
   "source": [
    "sample = 'WmTo3l_ZpM15'\n",
    "#sample = 'DYJetsToLL_M-10to50_TuneCP5_13TeV-madgraphMLM-pythia8'\n",
    "#sample = 'DYJetsToLL_M-50_TuneCP5_13TeV-madgraphMLM-pythia8'\n",
    "#sample = 'TTJets_DiLept_TuneCP5_13TeV-madgraphMLM-pythia8'\n",
    "#sample = 'WZTo3LNu_TuneCP5_13TeV-amcatnloFXFX-pythia8'\n",
    "\n",
    "in_path = \"/cmsuf/data/store/user/t2/users/nikmenendez/skimmed/signal/\"+ sample + \".root\"\n",
    "out_path = \"/cmsuf/data/store/user/t2/users/nikmenendez/skimmed/signal/MVA/\" + sample + \"_alt_PS.root\"\n",
    "\n",
    "#in_path = \"/cmsuf/data/store/user/t2/users/nikmenendez/skimmed/2017/\" + sample + \".root\"\n",
    "#out_path = \"/cmsuf/data/store/user/t2/users/nikmenendez/skimmed/2017/MVA/\" + sample + \"_PS.root\"\n",
    "\n",
    "f = TFile( out_path, 'RECREATE' )\n",
    "tree = TTree('passedEvents', 'Passed Events')\n",
    "\n",
    "tree.Branch('Lep1_pt', Lep1_pt, 'Lep1_pt/F')\n",
    "tree.Branch('Lep1_eta', Lep1_eta, 'Lep1_eta/F')\n",
    "tree.Branch('Lep1_phi', Lep1_phi, 'Lep1_phi/F')\n",
    "tree.Branch('Lep1_iso', Lep1_iso, 'Lep1_iso/F')\n",
    "tree.Branch('Lep1_id', Lep1_id, 'Lep1_id/I')\n",
    "\n",
    "tree.Branch('Lep2_pt', Lep2_pt, 'Lep2_pt/F')\n",
    "tree.Branch('Lep2_eta', Lep2_eta, 'Lep2_eta/F')\n",
    "tree.Branch('Lep2_phi', Lep2_phi, 'Lep2_phi/F')\n",
    "tree.Branch('Lep2_iso', Lep2_iso, 'Lep2_iso/F')\n",
    "tree.Branch('Lep2_id', Lep2_id, 'Lep2_id/I')\n",
    "\n",
    "tree.Branch('dR', dR, 'dR/F')\n",
    "\n",
    "tree.Branch('met', met, 'met/F')\n",
    "tree.Branch('met_phi', met_phi, 'met_phi/F')\n",
    "\n",
    "tree.Branch('fromZp', fromZp, 'fromZp/I')"
   ]
  },
  {
   "cell_type": "code",
   "execution_count": 5,
   "metadata": {
    "collapsed": false
   },
   "outputs": [
    {
     "name": "stdout",
     "output_type": "stream",
     "text": [
      "41259\n"
     ]
    }
   ],
   "source": [
    "File = TFile(in_path,\"READ\")\n",
    "event = File.Get(\"passedEvents\")\n",
    "\n",
    "nEntries = event.GetEntries()\n",
    "print nEntries"
   ]
  },
  {
   "cell_type": "code",
   "execution_count": 6,
   "metadata": {
    "collapsed": true
   },
   "outputs": [],
   "source": [
    "masses = [45,20,30,60]\n",
    "mass_up = [0,0,0,0]\n",
    "mass_dn = [0,0,0,0]\n",
    "\n",
    "for i in range(len(masses)):\n",
    "    mass_up[i] = masses[i]+2\n",
    "    mass_dn[i] = masses[i]-2"
   ]
  },
  {
   "cell_type": "code",
   "execution_count": 7,
   "metadata": {
    "collapsed": false
   },
   "outputs": [
    {
     "name": "stderr",
     "output_type": "stream",
     "text": [
      "100%|██████████| 41259/41259 [00:08<00:00, 4991.26it/s]\n"
     ]
    }
   ],
   "source": [
    "for i in tqdm(range(0, nEntries)):\n",
    "    event.GetEntry(i)\n",
    "    \n",
    "    Lep1, Lep2, Lep3 = TLorentzVector(), TLorentzVector(), TLorentzVector(),\n",
    "    \n",
    "    if event.pTL3 > event.pTL1:\n",
    "        \n",
    "        Lep1pt = event.pTL3#/event.massL3\n",
    "        Lep1eta = event.etaL3\n",
    "        Lep1phi = event.phiL3\n",
    "        Lep1iso = event.IsoL3\n",
    "        Lep1id = event.idL3\n",
    "        Lep1mom = event.MomIdL3\n",
    "        Lep1.SetPtEtaPhiM(event.pTL3,event.etaL3,event.phiL3,event.massL3)\n",
    "        \n",
    "        Lep2pt = event.pTL1#/event.massL1\n",
    "        Lep2eta = event.etaL1\n",
    "        Lep2phi = event.phiL1\n",
    "        Lep2iso = event.IsoL1\n",
    "        Lep2id = event.idL1\n",
    "        Lep2mom = event.MomIdL1\n",
    "        Lep2.SetPtEtaPhiM(event.pTL1,event.etaL1,event.phiL1,event.massL1)\n",
    "\n",
    "        Lep3pt = event.pTL2#/event.massL2\n",
    "        Lep3eta = event.etaL2\n",
    "        Lep3phi = event.phiL2\n",
    "        Lep3iso = event.IsoL2      \n",
    "        Lep3id = event.idL2\n",
    "        Lep3mom = event.MomIdL2\n",
    "        Lep3.SetPtEtaPhiM(event.pTL2,event.etaL2,event.phiL2,event.massL2)\n",
    "        \n",
    "    elif event.pTL3 > event.pTL2 and event.pTL1 > event.pTL3:\n",
    "\n",
    "        Lep1pt = event.pTL1#/event.massL1\n",
    "        Lep1eta = event.etaL1\n",
    "        Lep1phi = event.phiL1\n",
    "        Lep1iso = event.IsoL1\n",
    "        Lep1id = event.idL1\n",
    "        Lep1mom = event.MomIdL1\n",
    "        Lep1.SetPtEtaPhiM(event.pTL1,event.etaL1,event.phiL1,event.massL1)\n",
    "        \n",
    "        Lep2pt = event.pTL3#/event.massL3\n",
    "        Lep2eta = event.etaL3\n",
    "        Lep2phi = event.phiL3\n",
    "        Lep2iso = event.IsoL3\n",
    "        Lep2id = event.idL3\n",
    "        Lep2mom = event.MomIdL3\n",
    "        Lep2.SetPtEtaPhiM(event.pTL3,event.etaL3,event.phiL3,event.massL3)\n",
    "\n",
    "        Lep3pt = event.pTL2#/event.massL2\n",
    "        Lep3eta = event.etaL2\n",
    "        Lep3phi = event.phiL2\n",
    "        Lep3iso = event.IsoL2    \n",
    "        Lep3id = event.idL2\n",
    "        Lep3mom = event.MomIdL2\n",
    "        Lep3.SetPtEtaPhiM(event.pTL2,event.etaL2,event.phiL2,event.massL2)\n",
    "        \n",
    "    elif event.pTL3 < event.pTL2:\n",
    "\n",
    "        Lep1pt = event.pTL1#/event.massL1\n",
    "        Lep1eta = event.etaL1\n",
    "        Lep1phi = event.phiL1\n",
    "        Lep1iso = event.IsoL1\n",
    "        Lep1id = event.idL1\n",
    "        Lep1mom = event.MomIdL1\n",
    "        Lep1.SetPtEtaPhiM(event.pTL1,event.etaL1,event.phiL1,event.massL1)\n",
    "        \n",
    "        Lep2pt = event.pTL2#/event.massL2\n",
    "        Lep2eta = event.etaL2\n",
    "        Lep2phi = event.phiL2\n",
    "        Lep2iso = event.IsoL2\n",
    "        Lep2id = event.idL2\n",
    "        Lep2mom = event.MomIdL2\n",
    "        Lep2.SetPtEtaPhiM(event.pTL2,event.etaL2,event.phiL2,event.massL2)\n",
    "\n",
    "        Lep3pt = event.pTL3#/event.massL3\n",
    "        Lep3eta = event.etaL3\n",
    "        Lep3phi = event.phiL3\n",
    "        Lep3iso = event.IsoL3\n",
    "        Lep3id = event.idL3\n",
    "        Lep3mom = event.MomIdL3\n",
    "        Lep3.SetPtEtaPhiM(event.pTL3,event.etaL3,event.phiL3,event.massL3)\n",
    "                \n",
    "    met[0] = event.met\n",
    "    met_phi[0] = event.met_phi\n",
    "    \n",
    "    dR12 = deltaR(Lep1eta,Lep1phi,Lep2eta,Lep2phi)\n",
    "    dR13 = deltaR(Lep1eta,Lep1phi,Lep3eta,Lep3phi)\n",
    "    dR23 = deltaR(Lep2eta,Lep2phi,Lep3eta,Lep3phi)\n",
    "        \n",
    "    if (Lep1id + Lep2id == 0):\n",
    "        M = (Lep1 + Lep2).M()\n",
    "        \n",
    "        Lep1_pt[0] = Lep1pt/M\n",
    "        Lep1_eta[0] = Lep1eta\n",
    "        Lep1_phi[0] = Lep1phi\n",
    "        Lep1_iso[0] = Lep1iso\n",
    "        Lep1_id[0] = Lep1id\n",
    "        Lep1_mom = Lep1mom\n",
    "        \n",
    "        Lep2_pt[0] = Lep2pt/M\n",
    "        Lep2_eta[0] = Lep2eta\n",
    "        Lep2_phi[0] = Lep2phi\n",
    "        Lep2_iso[0] = Lep2iso\n",
    "        Lep2_id[0] = Lep2id\n",
    "        Lep2_mom = Lep2mom\n",
    "        \n",
    "        dR[0] = dR12\n",
    "        \n",
    "        if abs(Lep1_mom) == 999888 and abs(Lep2_mom) == 999888:\n",
    "            fromZp[0] = 1\n",
    "        else:\n",
    "            fromZp[0] = 0\n",
    "        \n",
    "        tree.Fill()\n",
    "    if (Lep1id + Lep3id == 0):\n",
    "        M = (Lep1 + Lep2).M()\n",
    "        \n",
    "        Lep1_pt[0] = Lep1pt/M\n",
    "        Lep1_eta[0] = Lep1eta\n",
    "        Lep1_phi[0] = Lep1phi\n",
    "        Lep1_iso[0] = Lep1iso\n",
    "        Lep1_id[0] = Lep1id\n",
    "        Lep1_mom = Lep1mom\n",
    "        \n",
    "        Lep2_pt[0] = Lep3pt/M\n",
    "        Lep2_eta[0] = Lep3eta\n",
    "        Lep2_phi[0] = Lep3phi\n",
    "        Lep2_iso[0] = Lep3iso\n",
    "        Lep2_id[0] = Lep3id\n",
    "        Lep2_mom = Lep3mom\n",
    "        \n",
    "        dR[0] = dR13\n",
    "        \n",
    "        if abs(Lep1_mom) == 999888 and abs(Lep2_mom) == 999888:\n",
    "            fromZp[0] = 1\n",
    "        else:\n",
    "            fromZp[0] = 0\n",
    "        \n",
    "        tree.Fill()\n",
    "    if (Lep2id + Lep3id == 0):\n",
    "        M = (Lep1 + Lep2).M()\n",
    "        \n",
    "        Lep1_pt[0] = Lep2pt/M\n",
    "        Lep1_eta[0] = Lep2eta\n",
    "        Lep1_phi[0] = Lep2phi\n",
    "        Lep1_iso[0] = Lep2iso\n",
    "        Lep1_id[0] = Lep2id\n",
    "        Lep1_mom = Lep2mom\n",
    "        \n",
    "        Lep2_pt[0] = Lep3pt/M\n",
    "        Lep2_eta[0] = Lep3eta\n",
    "        Lep2_phi[0] = Lep3phi\n",
    "        Lep2_iso[0] = Lep3iso\n",
    "        Lep2_id[0] = Lep3id\n",
    "        Lep2_mom = Lep3mom\n",
    "        \n",
    "        dR[0] = dR23\n",
    "        \n",
    "        if abs(Lep1_mom) == 999888 and abs(Lep2_mom) == 999888:\n",
    "            fromZp[0] = 1\n",
    "        else:\n",
    "            fromZp[0] = 0\n",
    "        \n",
    "        tree.Fill()\n",
    "        \n",
    "#     P1 = Lep1 + Lep2\n",
    "#     P2 = Lep1 + Lep3\n",
    "#     P3 = Lep2 + Lep3\n",
    "        \n",
    "#     M1 = P1.M()\n",
    "#     M2 = P2.M()\n",
    "#     M3 = P3.M()\n",
    "    \n",
    "#     #print \"M1 = %f GeV, M2 = %f GeV, M3 = %f GeV\" % (M1, M2, M3)\n",
    "    \n",
    "#     for m in range(len(masses)):\n",
    "#         if (mass_dn[m] < M1 < mass_up[m]): save_event = True\n",
    "#         elif (mass_dn[m] < M2 < mass_up[m]): save_event = True\n",
    "#         elif (mass_dn[m] < M3 < mass_up[m]): save_event = True\n",
    "    \n",
    "#     if save_event:\n",
    "#         #print \"Saving event\"\n",
    "#     tree.Fill()"
   ]
  },
  {
   "cell_type": "code",
   "execution_count": 8,
   "metadata": {
    "collapsed": true
   },
   "outputs": [],
   "source": [
    "f.Write()\n",
    "f.Close()"
   ]
  },
  {
   "cell_type": "code",
   "execution_count": null,
   "metadata": {
    "collapsed": false
   },
   "outputs": [],
   "source": []
  }
 ],
 "metadata": {
  "kernelspec": {
   "display_name": "Python 2",
   "language": "python",
   "name": "python2"
  },
  "language_info": {
   "codemirror_mode": {
    "name": "ipython",
    "version": 2
   },
   "file_extension": ".py",
   "mimetype": "text/x-python",
   "name": "python",
   "nbconvert_exporter": "python",
   "pygments_lexer": "ipython2",
   "version": "2.7.11"
  }
 },
 "nbformat": 4,
 "nbformat_minor": 2
}
