{
 "cells": [
  {
   "cell_type": "code",
   "execution_count": 1,
   "metadata": {
    "collapsed": true
   },
   "outputs": [],
   "source": [
    "import sys\n",
    "sys.path = ['', '/home/nikmenendez/.local/lib/python2.7/site-packages', '/cvmfs/cms.cern.ch/share/overrides/python', '/cvmfs/cms.cern.ch/slc6_amd64_gcc630/cms/cmssw/CMSSW_9_4_4/python', '/cvmfs/cms.cern.ch/slc6_amd64_gcc630/cms/cmssw/CMSSW_9_4_4/lib/slc6_amd64_gcc630', '/cvmfs/cms.cern.ch/slc6_amd64_gcc630/cms/coral/CORAL_2_3_21-fmblme4/slc6_amd64_gcc630/python', '/cvmfs/cms.cern.ch/slc6_amd64_gcc630/cms/coral/CORAL_2_3_21-fmblme4/slc6_amd64_gcc630/lib', '/cvmfs/cms.cern.ch/slc6_amd64_gcc630/external/professor2/2.2.1-fmblme5/lib/python2.7/site-packages', '/cvmfs/cms.cern.ch/slc6_amd64_gcc630/external/pyqt/4.11.4-fmblme/lib/python2.7/site-packages', '/cvmfs/cms.cern.ch/slc6_amd64_gcc630/external/sherpa/2.2.4-fmblme2/lib/python2.7/site-packages', '/cvmfs/cms.cern.ch/slc6_amd64_gcc630/external/rivet/2.5.4/lib/python2.7/site-packages', '/cvmfs/cms.cern.ch/slc6_amd64_gcc630/external/python-ldap/2.4.10-fmblme/lib/python2.7/site-packages', '/cvmfs/cms.cern.ch/slc6_amd64_gcc630/external/py2-matplotlib/1.5.2-fmblme/lib/python2.7/site-packages', '/cvmfs/cms.cern.ch/slc6_amd64_gcc630/external/sip/4.17-fmblme/lib/python2.7/site-packages', '/cvmfs/cms.cern.ch/slc6_amd64_gcc630/external/llvm/4.0.1/lib64/python2.7/site-packages', '/cvmfs/cms.cern.ch/slc6_amd64_gcc630/external/py2-sqlalchemy/1.1.4-fmblme/lib/python2.7/site-packages', '/cvmfs/cms.cern.ch/slc6_amd64_gcc630/external/py2-lint/0.25.1-fmblme/lib/python2.7/site-packages', '/cvmfs/cms.cern.ch/slc6_amd64_gcc630/external/py2-dxr/1.0-fmblme3/lib/python2.7/site-packages', '/cvmfs/cms.cern.ch/slc6_amd64_gcc630/external/py2-cx-oracle/5.2.1-fmblme/lib/python2.7/site-packages', '/cvmfs/cms.cern.ch/slc6_amd64_gcc630/external/py2-numpy/1.12.1-fmblme/lib/python2.7/site-packages', '/cvmfs/cms.cern.ch/slc6_amd64_gcc630/external/frontier_client/2.8.20-fmblme/python/lib', '/cvmfs/cms.cern.ch/slc6_amd64_gcc630/cms/das_client/v03.01.00-fmblme/bin', '/cvmfs/cms.cern.ch/slc6_amd64_gcc630/external/xrootd/4.6.1-fmblme/lib/python2.7/site-packages', '/cvmfs/cms.cern.ch/slc6_amd64_gcc630/external/yoda/1.6.7/lib/python2.7/site-packages', '/cvmfs/cms.cern.ch/slc6_amd64_gcc630/lcg/root/6.10.08/lib', '/cvmfs/cms.cern.ch/slc6_amd64_gcc630/external/pyminuit2/0.0.1-fmblme3/lib/python2.7/site-packages', '/cvmfs/cms.cern.ch/slc6_amd64_gcc630/external/py2-PyYAML/3.11-fmblme/lib/python2.7/site-packages', '/cvmfs/cms.cern.ch/slc6_amd64_gcc630/external/py2-pygithub/1.23.0-fmblme/lib/python2.7/site-packages', '/cvmfs/cms.cern.ch/slc6_amd64_gcc630/external/py2-pip/9.0.1-fmblme/lib/python2.7/site-packages', '/cvmfs/cms.cern.ch/slc6_amd64_gcc630/external/py2-dablooms/0.9.1-fmblme/lib/python2.7/site-packages', '/cvmfs/cms.cern.ch/slc6_amd64_gcc630/external/py2-pippkgs_depscipy/3.0-fmblme4/lib/python2.7/site-packages', '/cvmfs/cms.cern.ch/slc6_amd64_gcc630/external/py2-pippkgs/6.0-fmblme/lib/python2.7/site-packages', '/cvmfs/cms.cern.ch/slc6_amd64_gcc630/external/professor/1.4.0-fmblme3/lib/python2.7/site-packages', '/cvmfs/cms.cern.ch/slc6_amd64_gcc630/cms/dbs-client/DBS_2_1_9-fmblme/lib', '/cvmfs/cms.cern.ch/slc6_amd64_gcc630/cms/dbs-client/DBS_2_1_9-fmblme/lib/DBSAPI', '/cvmfs/cms.cern.ch/slc6_amd64_gcc630/external/cvs2git/5419-fmblme/lib', '/blue/avery/nikmenendez/Wto3l/Analyzer2/UF-PyNTupleRunner/Wto3l', '/blue/avery/nikmenendez/Wto3l/Analyzer2/UF-PyNTupleRunner', '/cvmfs/cms.cern.ch/slc6_amd64_gcc630/external/py2-sqlalchemy/1.1.4-fmblme/lib/python2.7/site-packages/SQLAlchemy-1.1.4-py2.7-linux-x86_64.egg', '/cvmfs/cms.cern.ch/slc6_amd64_gcc630/external/py2-numpy/1.12.1-fmblme/lib/python2.7/site-packages/numpy-1.12.1-py2.7-linux-x86_64.egg', '/cvmfs/cms.cern.ch/slc6_amd64_gcc630/external/python/2.7.11-fmblme/lib/python27.zip', '/cvmfs/cms.cern.ch/slc6_amd64_gcc630/external/python/2.7.11-fmblme/lib/python2.7', '/cvmfs/cms.cern.ch/slc6_amd64_gcc630/external/python/2.7.11-fmblme/lib/python2.7/plat-linux2', '/cvmfs/cms.cern.ch/slc6_amd64_gcc630/external/python/2.7.11-fmblme/lib/python2.7/lib-tk', '/cvmfs/cms.cern.ch/slc6_amd64_gcc630/external/python/2.7.11-fmblme/lib/python2.7/lib-old', '/cvmfs/cms.cern.ch/slc6_amd64_gcc630/external/python/2.7.11-fmblme/lib/python2.7/lib-dynload', '/home/nikmenendez/.local/lib/python2.7/site-packages', '/cvmfs/cms.cern.ch/slc6_amd64_gcc630/external/python/2.7.11-fmblme/lib/python2.7/site-packages']"
   ]
  },
  {
   "cell_type": "code",
   "execution_count": 2,
   "metadata": {
    "collapsed": false
   },
   "outputs": [
    {
     "name": "stdout",
     "output_type": "stream",
     "text": [
      "Welcome to JupyROOT 6.10/09\n"
     ]
    }
   ],
   "source": [
    "from ROOT import TFile, TTree\n",
    "from ROOT import gROOT, AddressOf\n",
    "import uproot\n",
    "from array import array\n",
    "from tqdm import tqdm\n",
    "import numpy as np\n",
    "from Utils.DeltaR import deltaR"
   ]
  },
  {
   "cell_type": "code",
   "execution_count": 3,
   "metadata": {
    "collapsed": false
   },
   "outputs": [],
   "source": [
    "Lep1_pt = array('f', [0.])\n",
    "Lep1_eta = array('f', [0.])\n",
    "Lep1_phi = array('f', [0.])\n",
    "Lep1_iso = array('f', [0.])\n",
    "Lep1_id = array('i', [0])\n",
    "#Lep1_mom = array('i', [0])\n",
    "\n",
    "Lep2_pt = array('f', [0.])\n",
    "Lep2_eta = array('f', [0.])\n",
    "Lep2_phi = array('f', [0.])\n",
    "Lep2_iso = array('f', [0.])\n",
    "Lep2_id = array('i', [0])\n",
    "#Lep2_mom = array('i', [0])\n",
    "\n",
    "Lep3_pt = array('f', [0.])\n",
    "Lep3_eta = array('f', [0.])\n",
    "Lep3_phi = array('f', [0.])\n",
    "Lep3_iso = array('f', [0.])\n",
    "Lep3_id = array('i', [0])\n",
    "#Lep3_mom = array('i', [0])\n",
    "\n",
    "dR12 = array('f', [0.])\n",
    "dR13 = array('f', [0.])\n",
    "dR23 = array('f', [0.])\n",
    "\n",
    "met = array('f', [0.])\n",
    "met_phi = array('f', [0.])\n",
    "\n",
    "c0 = array('i', [0])\n",
    "c1 = array('i', [0])\n",
    "c2 = array('i', [0])\n",
    "c3 = array('i', [0])"
   ]
  },
  {
   "cell_type": "code",
   "execution_count": 4,
   "metadata": {
    "collapsed": false
   },
   "outputs": [
    {
     "data": {
      "text/plain": [
       "<ROOT.TBranch object (\"c3\") at 0x2c64810>"
      ]
     },
     "execution_count": 4,
     "metadata": {},
     "output_type": "execute_result"
    }
   ],
   "source": [
    "sample = 'WpTo3l_ZpM60'\n",
    "\n",
    "in_path = \"/cmsuf/data/store/user/t2/users/nikmenendez/skimmed/signal/\"+ sample + \".root\"\n",
    "out_path = \"/cmsuf/data/store/user/t2/users/nikmenendez/skimmed/signal/MVA/\" + sample + \"_PS.root\"\n",
    "\n",
    "f = TFile( out_path, 'RECREATE' )\n",
    "tree = TTree('passedEvents', 'Passed Events')\n",
    "\n",
    "tree.Branch('Lep1_pt', Lep1_pt, 'Lep1_pt/F')\n",
    "tree.Branch('Lep1_eta', Lep1_eta, 'Lep1_eta/F')\n",
    "tree.Branch('Lep1_phi', Lep1_phi, 'Lep1_phi/F')\n",
    "tree.Branch('Lep1_iso', Lep1_iso, 'Lep1_iso/F')\n",
    "tree.Branch('Lep1_id', Lep1_id, 'Lep1_id/I')\n",
    "\n",
    "tree.Branch('Lep2_pt', Lep2_pt, 'Lep2_pt/F')\n",
    "tree.Branch('Lep2_eta', Lep2_eta, 'Lep2_eta/F')\n",
    "tree.Branch('Lep2_phi', Lep2_phi, 'Lep2_phi/F')\n",
    "tree.Branch('Lep2_iso', Lep2_iso, 'Lep2_iso/F')\n",
    "tree.Branch('Lep2_id', Lep2_id, 'Lep2_id/I')\n",
    "\n",
    "tree.Branch('Lep3_pt', Lep3_pt, 'Lep3_pt/F')\n",
    "tree.Branch('Lep3_eta', Lep3_eta, 'Lep3_eta/F')\n",
    "tree.Branch('Lep3_phi', Lep3_phi, 'Lep3_phi/F')\n",
    "tree.Branch('Lep3_iso', Lep3_iso, 'Lep3_iso/F')\n",
    "tree.Branch('Lep3_id', Lep3_id, 'Lep3_id/I')\n",
    "\n",
    "tree.Branch('dR12', dR12, 'dR12/F')\n",
    "tree.Branch('dR13', dR13, 'dR13/F')\n",
    "tree.Branch('dR23', dR23, 'dR23/F')\n",
    "\n",
    "tree.Branch('met', met, 'met/F')\n",
    "tree.Branch('met_phi', met_phi, 'met_phi/F')\n",
    "\n",
    "tree.Branch('c0', c0, 'c0/I')\n",
    "tree.Branch('c1', c1, 'c1/I')\n",
    "tree.Branch('c2', c2, 'c2/I')\n",
    "tree.Branch('c3', c3, 'c3/I')"
   ]
  },
  {
   "cell_type": "code",
   "execution_count": 5,
   "metadata": {
    "collapsed": false
   },
   "outputs": [
    {
     "name": "stdout",
     "output_type": "stream",
     "text": [
      "89694\n"
     ]
    }
   ],
   "source": [
    "File = TFile(in_path,\"READ\")\n",
    "event = File.Get(\"passedEvents\")\n",
    "\n",
    "nEntries = event.GetEntries()\n",
    "print nEntries"
   ]
  },
  {
   "cell_type": "code",
   "execution_count": 6,
   "metadata": {
    "collapsed": false
   },
   "outputs": [
    {
     "name": "stderr",
     "output_type": "stream",
     "text": [
      "100%|██████████| 89694/89694 [00:16<00:00, 5583.86it/s]\n"
     ]
    },
    {
     "name": "stdout",
     "output_type": "stream",
     "text": [
      "\n"
     ]
    }
   ],
   "source": [
    "for i in tqdm(range(0, nEntries)):\n",
    "    event.GetEntry(i)\n",
    "    \n",
    "    Lep1_mom = [0]\n",
    "    Lep2_mom = [0]\n",
    "    Lep3_mom = [0]\n",
    "    \n",
    "    if event.pTL3 > event.pTL1:\n",
    "        \n",
    "        Lep1_pt[0] = event.pTL3\n",
    "        Lep1_eta[0] = event.etaL3\n",
    "        Lep1_phi[0] = event.phiL3\n",
    "        Lep1_iso[0] = event.IsoL3\n",
    "        Lep1_id[0] = event.idL3\n",
    "        Lep1_mom[0] = event.MomIdL3\n",
    "        \n",
    "        Lep2_pt[0] = event.pTL1\n",
    "        Lep2_eta[0] = event.etaL1\n",
    "        Lep2_phi[0] = event.phiL1\n",
    "        Lep2_iso[0] = event.IsoL1\n",
    "        Lep2_id[0] = event.idL1\n",
    "        Lep2_mom[0] = event.MomIdL1\n",
    "\n",
    "        Lep3_pt[0] = event.pTL2\n",
    "        Lep3_eta[0] = event.etaL2\n",
    "        Lep3_phi[0] = event.phiL2\n",
    "        Lep3_iso[0] = event.IsoL2      \n",
    "        Lep3_id[0] = event.idL2\n",
    "        Lep3_mom[0] = event.MomIdL2\n",
    "        \n",
    "    elif event.pTL3 > event.pTL2 and event.pTL1 > event.pTL3:\n",
    "\n",
    "        Lep1_pt[0] = event.pTL1\n",
    "        Lep1_eta[0] = event.etaL1\n",
    "        Lep1_phi[0] = event.phiL1\n",
    "        Lep1_iso[0] = event.IsoL1\n",
    "        Lep1_id[0] = event.idL1\n",
    "        Lep1_mom[0] = event.MomIdL1\n",
    "        \n",
    "        Lep2_pt[0] = event.pTL3\n",
    "        Lep2_eta[0] = event.etaL3\n",
    "        Lep2_phi[0] = event.phiL3\n",
    "        Lep2_iso[0] = event.IsoL3\n",
    "        Lep2_id[0] = event.idL3\n",
    "        Lep2_mom[0] = event.MomIdL3\n",
    "\n",
    "        Lep3_pt[0] = event.pTL2\n",
    "        Lep3_eta[0] = event.etaL2\n",
    "        Lep3_phi[0] = event.phiL2\n",
    "        Lep3_iso[0] = event.IsoL2    \n",
    "        Lep3_id[0] = event.idL2\n",
    "        Lep3_mom[0] = event.MomIdL2\n",
    "        \n",
    "    elif event.pTL3 < event.pTL2:\n",
    "\n",
    "        Lep1_pt[0] = event.pTL1\n",
    "        Lep1_eta[0] = event.etaL1\n",
    "        Lep1_phi[0] = event.phiL1\n",
    "        Lep1_iso[0] = event.IsoL1\n",
    "        Lep1_id[0] = event.idL1\n",
    "        Lep1_mom[0] = event.MomIdL1\n",
    "        \n",
    "        Lep2_pt[0] = event.pTL2\n",
    "        Lep2_eta[0] = event.etaL2\n",
    "        Lep2_phi[0] = event.phiL2\n",
    "        Lep2_iso[0] = event.IsoL2\n",
    "        Lep2_id[0] = event.idL2\n",
    "        Lep2_mom[0] = event.MomIdL2\n",
    "\n",
    "        Lep3_pt[0] = event.pTL3\n",
    "        Lep3_eta[0] = event.etaL3\n",
    "        Lep3_phi[0] = event.phiL3\n",
    "        Lep3_iso[0] = event.IsoL3\n",
    "        Lep3_id[0] = event.idL3\n",
    "        Lep3_mom[0] = event.MomIdL3\n",
    "                \n",
    "    met[0] = event.met\n",
    "    met_phi[0] = event.met_phi\n",
    "    \n",
    "    dR12[0] = deltaR(Lep1_eta[0],Lep1_phi[0],Lep2_eta[0],Lep2_phi[0])\n",
    "    dR13[0] = deltaR(Lep1_eta[0],Lep1_phi[0],Lep3_eta[0],Lep3_phi[0])\n",
    "    dR23[0] = deltaR(Lep2_eta[0],Lep2_phi[0],Lep3_eta[0],Lep3_phi[0])\n",
    "    \n",
    "    if abs(Lep1_mom[0]) == 999888 and abs(Lep2_mom[0]) == 999888:\n",
    "        c0[0] = 0\n",
    "        c1[0] = 1\n",
    "        c2[0] = 0\n",
    "        c3[0] = 0\n",
    "    elif abs(Lep1_mom[0]) == 999888 and abs(Lep3_mom[0]) == 999888:\n",
    "        c0[0] = 0\n",
    "        c1[0] = 0\n",
    "        c2[0] = 1\n",
    "        c3[0] = 0\n",
    "    elif abs(Lep2_mom[0]) == 999888 and abs(Lep3_mom[0]) == 999888:\n",
    "        c0[0] = 0\n",
    "        c1[0] = 0\n",
    "        c2[0] = 0\n",
    "        c3[0] = 1\n",
    "    else:\n",
    "        c0[0] = 1\n",
    "        c1[0] = 0\n",
    "        c2[0] = 0\n",
    "        c3[0] = 0\n",
    "        \n",
    "    tree.Fill()\n",
    "\n",
    "event.GetEntry(0)\n",
    "print "
   ]
  },
  {
   "cell_type": "code",
   "execution_count": 7,
   "metadata": {
    "collapsed": true
   },
   "outputs": [],
   "source": [
    "f.Write()\n",
    "f.Close()"
   ]
  },
  {
   "cell_type": "code",
   "execution_count": null,
   "metadata": {
    "collapsed": true
   },
   "outputs": [],
   "source": []
  }
 ],
 "metadata": {
  "kernelspec": {
   "display_name": "Python 2",
   "language": "python",
   "name": "python2"
  },
  "language_info": {
   "codemirror_mode": {
    "name": "ipython",
    "version": 2
   },
   "file_extension": ".py",
   "mimetype": "text/x-python",
   "name": "python",
   "nbconvert_exporter": "python",
   "pygments_lexer": "ipython2",
   "version": "2.7.11"
  }
 },
 "nbformat": 4,
 "nbformat_minor": 2
}
